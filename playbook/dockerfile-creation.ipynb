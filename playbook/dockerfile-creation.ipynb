{
  "cells": [
    {
      "cell_type": "markdown",
      "metadata": {},
      "source": [
        "# **DockerFile Creation**\n",
        "\n",
        "| | |\n",
        "|-|-|\n",
        "| Author(s) | [Keeyana Jones](https://github.com/keeyanajones/) |"
      ]
    },
    {
      "cell_type": "markdown",
      "metadata": {},
      "source": [
        "## **Overview**\n",
        "\n",
        "A Dockerfile is a plain text file that contains a series of instructions that Docker uses to automatically build a Docker image.  Its essentially a blueprint or a recipe for creating a reproducible and portable environment for your application.  Each instruction in a Dockerfile creates a layer in the Docker image, making builds efficient and allowing for caching. "
      ]
    },
    {
      "cell_type": "markdown",
      "metadata": {},
      "source": [
        "### \n",
        "\n",
        "- **Reproducibility**  Ensures that anyone building the image from the Dockerfile will get the exact same environment, regardless of their local machine setup.\n",
        "- **Portability:** The resulting Docker image can be run consistently on any Docker compatible environment (local machine, cloud, server).\n",
        "- **Isolation:** your application runs in a self contained environment, separate form the host system and other applications.\n",
        "- **Version Control:** Dockerfiles are text files, so they can be easily version controlled using systems like git, allowing you to track changes to your build process.\n",
        "- **Efficiency:** Dockers layered approach and cahing mechanisms make rebuilding images fast when only small changes occur.  "
      ]
    },
    {
      "cell_type": "markdown",
      "metadata": {},
      "source": [
        "### **Basic Structure and Key Instructions**\n",
        "\n",
        "A Dockerfile typically starts with a base image and then adds layers of configurations, dependencies, and application code.  Here are the most common instructions: \n",
        "1. `FROM`:\n",
        "   - **Purpose:** Specifies the base image for your build.  This is usually an official image from Docker Hub (e.g., `ubuntu`, `python`, `node`, `nginx`), it must be the first instruction in a Dockerfile.\n",
        "   - **Example:** `FROM python:3.9-slim-buster` (uses a lightweight Python 3.9 image based on Debian Buster)   \n",
        "\n",
        "2. `WORKDIR`: \n",
        "   - **Purpose:** Sets the working directory fro any `RUN`, `CMD`, `ENTRYPOINT`, `COPY`, or `ADD` instructions that follow it.  If the directory doesn't exist, it will be created.\n",
        "   - **Example:** `WORKDIR /app` (all subsequent commands will execute relative to `/app` inside the image). \n",
        "\n",
        "3. `COPY`:\n",
        "   - **Purpose:** Copies new files or directories from the host machine (where your building the image) into the Docker images filesystem.  Its generally preferred over for simple copying.\n",
        "   - **Example:** `COPY . .` (copies everything from the current directory on the host to the `WORKDIR` inside the image)\n",
        "   - **Example:** `COPY requirements.txt .` (copies only `requirements.txt`).\n",
        "\n",
        "4. `RUN`:\n",
        "   - **Purpose:** Executes commands in a new layer on top of the current image and commits the result.  Used for installing software, creating directories, running build scripts, etc.\n",
        "   - **Example:** `RUN opt-get update && opt-get install -y git` (updates package and installs git)\n",
        "   - **Example:** `RUN pop install -f requirements.txt` (installs Python dependencies)\n",
        "\n",
        "5. `EXPOSE`:\n",
        "   - **purpose:** informs Docker that the container listens on the specified network ports at runtime.  It doesn't actually publish the port; its more of a documentation and networking hint. You need to use the `-p` flag with `docker run` to publish the port.\n",
        "   - **Example:** `EXPOSE 8000` (indicates the application inside listens on port 8000)\n",
        "\n",
        "6. `CMD`:\n",
        "   - **Purpose:** Provides default commands and arguments for an executing container.  There can only be one `CMD` instruction in a Dockerfile. If you specify an executable, it will be run.  If you provide arguments, they will be appended to teh ENTRYPOINT instruction (if one exists).\n",
        "   - **Example (executable form):** `CMD [\"python\", \"app.py\"]` \n",
        "   - **Example (shell form):** `CMD python app.py` (less preferred as it runs through a shell, losing some ignal handling)\n",
        "\n",
        "7. `ENTRYPOINT`:\n",
        "   - **Purpose:** Configures a container that will run as an executable.  Like `CMD`, there can only be one `ENTRYPOINT`. If both `ENTRYPOINT` and `CMD` are present, `CMD`s value becomes arguments to the `ENTRYPOINT`.  Often used to set up a fixed command with variable arguments.\n",
        "   - **Example:** `ENTRYPOINT [\"gunicorn\", \"--bind\", \"0.0.0.0:8000\", \"my_app:app\"]`\n",
        "   - **Example:** with CMD:"
      ]
    },
    {
      "cell_type": "code",
      "execution_count": null,
      "metadata": {},
      "outputs": [],
      "source": [
        "ENTRYPOINT [\"/usr/bin/supervisord\", \"-n\"]\n",
        "CMD [\"myservice\"] # passed as argument to supervisord"
      ]
    },
    {
      "cell_type": "markdown",
      "metadata": {},
      "source": [
        "### **Example Dockerfile (Python Flask Application)**\n",
        "\n",
        "Lets image you have a simple Flask app:\n",
        "\n",
        "`app.py`: "
      ]
    },
    {
      "cell_type": "markdown",
      "metadata": {},
      "source": [
        "   - **Purpose:** similar to `.gitignore`, this file specifies files and directories that should be excluded whe the Docker client sends the build context to the Docker daemon. This prevents sending unnecessary files, speeding up the build process and reducing image size.\n",
        "   - **Example:** `* .pyc`, `.venv/`, `.git/`, `__pycache__/`, `node_modules/`"
      ]
    },
    {
      "cell_type": "code",
      "execution_count": null,
      "metadata": {},
      "outputs": [],
      "source": [
        "from flask import Flask\n",
        "app = Flask(__name__)\n",
        "\n",
        "@app.route('/')\n",
        "def hello():\n",
        "    return \"Hello from Docker!\"\n",
        "\n",
        "if __name__ == '__main__':\n",
        "    app.run(host='0.0.0.0', port=5000)"
      ]
    },
    {
      "cell_type": "markdown",
      "metadata": {},
      "source": [
        "`requirement.txt`:"
      ]
    },
    {
      "cell_type": "code",
      "execution_count": null,
      "metadata": {},
      "outputs": [],
      "source": [
        "Flask==2.3.2"
      ]
    },
    {
      "cell_type": "markdown",
      "metadata": {},
      "source": [
        "Here's the corresponding `Dockerfile`:"
      ]
    },
    {
      "cell_type": "code",
      "execution_count": null,
      "metadata": {},
      "outputs": [],
      "source": [
        "# Use an official Python runtime as a parent image\n",
        "FROM python:3.9-slim-buster\n",
        "# Set the working directory in the container\n",
        "WORKDIR /app\n",
        "# Copy the requirements file into the container at /app\n",
        "COPY requirements.txt .\n",
        "# Install any needed packages specified in requirements.txt\n",
        "RUN pip install --no-cache-dir -r requirements.txt\n",
        "# Copy the rest of the application code into the container at /app \n",
        "COPY . .\n",
        "# Make port 500 available to the world outside this container \n",
        "EXPOSE 5000\n",
        "# Run app.py when the container launches \n",
        "CMD [\"python\",\"app.py\"]"
      ]
    },
    {
      "cell_type": "markdown",
      "metadata": {},
      "source": [
        "And a `.dockerignore` file:"
      ]
    },
    {
      "cell_type": "code",
      "execution_count": null,
      "metadata": {},
      "outputs": [],
      "source": [
        "__pycache__/\n",
        "*.pyc\n",
        ".git/\n",
        ".venv/"
      ]
    },
    {
      "cell_type": "markdown",
      "metadata": {},
      "source": [
        "### **Building and Running an image from a Dockerfile**\n",
        "\n",
        "1. **Save the Dockerfile:** Save the above content in a file named `Dockerfile` (no extension) in the same directory as `app.py` and `requirements.txt`.\n",
        "2. **Build the image:** Open your terminal in that directory and run:"
      ]
    },
    {
      "cell_type": "code",
      "execution_count": null,
      "metadata": {
        "vscode": {
          "languageId": "shellscript"
        }
      },
      "outputs": [],
      "source": [
        "docker build -t my-flask-app ."
      ]
    },
    {
      "cell_type": "markdown",
      "metadata": {},
      "source": [
        "- **`-t my-flask-app`:** Tags the image with the name `my-flask-app`. \n",
        "- **`.`:** Specifies the build context (the current directory), meaning Docker will look for the Dockerfile and related files in the current directory."
      ]
    },
    {
      "cell_type": "markdown",
      "metadata": {},
      "source": [
        "3. Run the container:"
      ]
    },
    {
      "cell_type": "code",
      "execution_count": null,
      "metadata": {
        "vscode": {
          "languageId": "shellscript"
        }
      },
      "outputs": [],
      "source": [
        "docker run -p 5000:5000 my-flask-app"
      ]
    },
    {
      "cell_type": "markdown",
      "metadata": {},
      "source": [
        "- **`-p 5000:5000`:** maps port 5000 on your host machine to port 5000 inside the container (where your Flask app is listening).\n",
        "- **`my-flask-app`:** The name of the image to run.\n",
        "\n",
        "Now, if you open your web browser and go to `http://localhost:5000`, you should see \"Hello from Docker!\"."
      ]
    },
    {
      "cell_type": "markdown",
      "metadata": {},
      "source": [
        "### **Dockerfile Best Practices**\n",
        "\n",
        "- **Small Base Images:** Use lean base images (e.g., -slim, alpine) to reduce image size, which speed up builds, pulls, and reduces attack surface.\n",
        "- **Layer Caching:** order your instructions form least to most frequently changing.  For example, install dependencies (`RUN pip install`) before copying your application code (`COPY . .`), so Docker can cache the dependency installation step if only your code changes.\n",
        "- **Minimize Layers:** Combine multiple `RUN` commands into a simple `RUN` command using `&&` to reduce the number of layers and image size.  Clean up temporary files in the same `RUN` command.  \n",
        "- **Use `.dockerignore`:** Exclude unnecessary files from the build context (e.g., `.git`, `node_modules`, `__pycache__`) to speed up builds and reduce image size.\n",
        "- **Specific Versions:** pin dependencies to specific versions (e.g.,`python:3.9-slim-buster`, `flask==2.3.2`) for reproducibility.\n",
        "- **Non-Root User:** Run your application as a non root user inside the container for security reasons (`User` instruction).\n",
        "- **Multi-stage Builds:** For complex applications, use multistage builds to create smaller, more secure production images by separating build time dependencies from runtime dependencies. \n",
        "   - **Example:** Build a Go binary in one stage, then copy only the binary into a `scratch` or `alpine` image in teh final stage.\n",
        "- **CMD vs. ENTRYPOINT:**\n",
        "Understand their differences and use them appropriately. `ENTRYPOINT` is good for setting up an executable that `CMD` can pass arguments to. \n",
        "- **Health Checks:** Consider adding `HEALTHCHECK` instructions for production containers to tell Docker how to test if a container is still working. "
      ]
    },
    {
      "cell_type": "markdown",
      "metadata": {},
      "source": [
        "Mastering Dockerfile creation is a fundamental skill for anyone working with containerized applications, enabling efficient, reproducible, and portable deployments. "
      ]
    },
    {
      "cell_type": "markdown",
      "metadata": {},
      "source": [
        "----"
      ]
    }
  ],
  "metadata": {
    "colab": {
      "name": "intro_batch_prediction.ipynb",
      "toc_visible": true
    },
    "kernelspec": {
      "display_name": "Python 3",
      "name": "python3"
    },
    "language_info": {
      "codemirror_mode": {
        "name": "ipython",
        "version": 3
      },
      "file_extension": ".py",
      "mimetype": "text/x-python",
      "name": "python",
      "nbconvert_exporter": "python",
      "pygments_lexer": "ipython3",
      "version": "3.11.0"
    }
  },
  "nbformat": 4,
  "nbformat_minor": 0
}
