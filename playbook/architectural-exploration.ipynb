{
  "cells": [
    {
      "cell_type": "markdown",
      "metadata": {},
      "source": [
        "# **Architectural Exploration**\n",
        "\n",
        "| | |\n",
        "|-|-|\n",
        "| Author(s) | [Keeyana Jones](https://github.com/keeyanajones/) |"
      ]
    },
    {
      "cell_type": "markdown",
      "metadata": {},
      "source": [
        "## **Overview**\n",
        "\n",
        "Architectural exploration, particularly in the context of software and system design, is a crucial and iterative process of investigating and evaluating various potential architectural solutions to a given set of requirements.  Its about proactively making fundamental design decisions that will shape the entire system, aiming to find the best fit among many possible options, given constraints and quality attributes.  \n",
        "\n",
        "Think of it like an architect designing a building.  Before drawing the final blueprints, they might sketch several layouts, consider different materials evaluate the flow of spaces, and think about how the building will stand up to various conditions (earthquakes, strong winds). Architectural exploration is the digital equivalent of this critical initial phase.  \n",
        "\n",
        "Here's a deeper dive into what architectural exploration entails:"
      ]
    },
    {
      "cell_type": "markdown",
      "metadata": {},
      "source": [
        "### **Key Aspects and Goals**\n",
        "\n",
        "1. **Exploring Design Space:** The primary goal is to systematically investigate the \"design space\" - the vast range of possible architectures that could fulfill the systems functional and non-functional requirements. This involves considering different architectural systems, patterns, technologies, and component organizations.  \n",
        "\n",
        "2. **Balancing Trade-offs:** Every architectural decision comes with trade-offs. For instance, prioritizing performance might increase cost or complexity.  Architectural exploration is about understanding these trade-offs and finding an optimal balance. Common trade-off include:\n",
        "   - **Performance vs. Cost:** How much computing power and resources are needed versus the budget?\n",
        "   - **Scalability vs. Complexity:** How easily can the system handle increased load, and at what cost to the design's simplicity?\n",
        "   - **Maintainability vs. Development Speed:** Is the architecture easy to understand and modify in the long run, even if it takes longer to set up initially?\n",
        "   - **Security vs. Usability:** How to protect the system without making it too difficult for users?\n",
        "\n",
        "3. **Meeting Quality Attributes (Non-Functional Requirements)** While functional requirements (what the system does) are important, architectural exploration heavily focuses on non-functional requirements, also known as quality attributes.  These include: \n",
        "   - **Performance:** responsiveness, throughput, latency.\n",
        "   - **Scalability:** Ability to handle increasing load.\n",
        "   - **Reliability/Availability:** Uptime, fault tolerance, recovery.\n",
        "   - **Security:** Protection against unauthorized access, data breaches.\n",
        "   - **Maintainability:** Ease of modification, debugging, and evolution.\n",
        "   - **Testability:** Ease of testing the system\n",
        "   - **Usability:** Ease of use for end users.\n",
        "   - **Cost effectiveness:** Development, deployment, and operational costs.\n",
        " \n",
        "4. **Risk Management:** Identifying and mitigating potential risks early on.  A poor architectural decision can lead to significant problems down the line, requiring expensive rework or even project failure.\n",
        "\n",
        "5. **Communication and Collaboration:** Architectural exploration facilitates clear communication among steholders - developers, product managers, clients, and operations teams - ensuring everyone understands the chosen direction and its implications."
      ]
    },
    {
      "cell_type": "markdown",
      "metadata": {},
      "source": [
        "### **How Architectural Exploration is Conducted**\n",
        "\n",
        "Architectural exploration is typically an iterative process, involving:\n",
        "1. **Understanding Requirements:** A deep dive into functional and non functional requirements, clarifying ambiguities and prioritizing them.\n",
        "\n",
        "2. **Brainstorming and Proposing Candidate Architectures:** Based on the requirements, architects and design teams propose several plausible architectural solutions.  This might involve:\n",
        "   - **Leveraging Architectural Patterns and Styles:** Microservices, layered architecture, event driven architecture, client server, etc.   \n",
        "   - **Considering Technology Stacks:** Databases, programming languages, frameworks, cloud platforms.\n",
        "   - **Component Decomposition:** How the system will be broken down into smaller, manageable components.\n",
        "   - **Hardware-Software Partitioning:** Deciding which functionalities will be implemented in hardware versus software (especially in embedded systems).\n",
        "\n",
        "3. **Modeling and Prototyping:**\n",
        "   - **Diagrams:** Using various architectural diagrams (e.g., component diagrams, deployment diagrams, sequence diagrams) to visualize the proposed architectures.\n",
        "   - **Architectural Spikes / Prototypes:** Building small, focused proofs of concept to test specific technical risks or assumptions about a particular architectural approach.  \n",
        "   - **Simulations:** For complex systems, especially in hardware design, simulations might be used to product performance, power consumption, or other critical metrics.  \n",
        "\n",
        "4. **Evaluation and Analysis:** This is where the trade offs are rigorously analyzed.  Techniques include:\n",
        "   - **Architectural Reviews:** Expert reviews of proposed architectures.\n",
        "   - **Scenario-Based Evaluation:** Using specific use cases or scenarios (e.g., What happens if 1 million users log in simultaneously?) to assess how well an architecture performs against quality attributes. The Architecture Trade-off Analysis Method (ATAM) is a well-known structured approach for this.  \n",
        "   - **Cost-Benefit Analysis:** Estimating the costs and benefits associated with each architectural choice.\n",
        "   - **Risk Analysis:** Identifying potential pitfalls and developing mitigation strategies.\n",
        "\n",
        "5. **Decision Making:** Based on the evaluation, a chosen architecture is selected, and the rationale for the decisionis documented.  This is often not about finding a perfect solution, but the most suitable one given the constraints and priorities. \n",
        "\n",
        "6. **Refinement:** The chosen architecture is further detailed and refined as developement progresses, often incorporating feedback from implementation and testing.  "
      ]
    },
    {
      "cell_type": "markdown",
      "metadata": {},
      "source": [
        "### **Tools and Techniques**\n",
        "- **UML (Unified Modeling Language):** For creating various architectural diagrams.\n",
        "- **Architecture Description Languages (ADLs):** Formal Languages for describing software architectures (e.g., AADL for embedded systems). \n",
        "- **Simulation Tools:** For performance modeling and analysis.\n",
        "- **Whiteboarding and Sketching:** For initial brainstorming and visualizing ideas.\n",
        "- **Prototyping Frameworks/Languages:** To quickly build proof of concept implementations."
      ]
    },
    {
      "cell_type": "markdown",
      "metadata": {},
      "source": [
        "Architectural exploration is an ongoing activity throughout a systems lifecycle, through it is most intensive in the early design phases.  A thorough exploration significantly reduces risks, improves system quality, and lays a solid foundation for successful development and long term evolution.   "
      ]
    },
    {
      "cell_type": "markdown",
      "metadata": {},
      "source": [
        "----"
      ]
    }
  ],
  "metadata": {
    "colab": {
      "name": "intro_batch_prediction.ipynb",
      "toc_visible": true
    },
    "kernelspec": {
      "display_name": "Python 3",
      "name": "python3"
    },
    "language_info": {
      "codemirror_mode": {
        "name": "ipython",
        "version": 3
      },
      "file_extension": ".py",
      "mimetype": "text/x-python",
      "name": "python",
      "nbconvert_exporter": "python",
      "pygments_lexer": "ipython3",
      "version": "3.11.0"
    }
  },
  "nbformat": 4,
  "nbformat_minor": 0
}
