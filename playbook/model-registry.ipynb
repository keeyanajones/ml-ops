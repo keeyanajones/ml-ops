{
  "cells": [
    {
      "cell_type": "markdown",
      "metadata": {},
      "source": [
        "# **Model Registry**\n",
        " \n",
        "# Google Cloud Vertex AI Model Registry\n",
        "\n",
        "| | |\n",
        "|-|-|\n",
        "| Author(s) | [Keeyana Jones](https://github.com/keeyanajones/) |"
      ]
    },
    {
      "cell_type": "markdown",
      "metadata": {},
      "source": [
        "## **Overview**\n",
        "\n",
        "The Google Cloud Vertex AI Model Registry is Google Cloud's managed service within the broader Vertex AI platform designed to centrally store, version, and manage your machine learning models.  Its a key component for implementing MLOps best practices on Google Cloud. "
      ]
    },
    {
      "cell_type": "markdown",
      "metadata": {},
      "source": [
        "### **How to interact with Vertex AI Model Registry:**\n",
        "\n",
        "You can interact with the Vertex AI Model Registry in several ways:\n",
        "1. **Google Cloud Console:** A user friendly web interface for visual management of your models, versions, and stages. \n",
        "2. **Vertex AI SDK for Python:** The recommended programmatic interface for data scientists and ML engineers to upload, register, update, and deploy models directly from their code.\n",
        "3. **REST API:** For direct integration into custom applications or CI/CD pipelines.\n",
        "4. **`gcloud` CLI:** Command line interface tools for interacting with Google Cloud Services, including Vertex AI."
      ]
    },
    {
      "cell_type": "markdown",
      "metadata": {},
      "source": [
        "In summary, the Google Cloud Vertex AI Model Registry is a robust and integrated solution that serves as the backbone for managing your ML model assets on Google Cloud, ensuring efficiency, governance, and seamless operationalization of your AI initiatives."
      ]
    },
    {
      "cell_type": "markdown",
      "metadata": {},
      "source": [
        "----"
      ]
    }
  ],
  "metadata": {
    "colab": {
      "name": "intro_batch_prediction.ipynb",
      "toc_visible": true
    },
    "kernelspec": {
      "display_name": "Python 3",
      "name": "python3"
    },
    "language_info": {
      "codemirror_mode": {
        "name": "ipython",
        "version": 3
      },
      "file_extension": ".py",
      "mimetype": "text/x-python",
      "name": "python",
      "nbconvert_exporter": "python",
      "pygments_lexer": "ipython3",
      "version": "3.11.0"
    }
  },
  "nbformat": 4,
  "nbformat_minor": 0
}
